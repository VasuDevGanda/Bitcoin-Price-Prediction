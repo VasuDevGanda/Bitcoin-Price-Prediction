{
 "cells": [
  {
   "cell_type": "code",
   "execution_count": 1,
   "id": "43383cf6",
   "metadata": {},
   "outputs": [],
   "source": [
    "# Importing Libraries\n",
    "import pandas as pd\n",
    "import numpy as np\n",
    "import matplotlib.pyplot as plt\n",
    "from sklearn.preprocessing import MinMaxScaler\n",
    "from tensorflow.keras.models import Sequential\n",
    "from tensorflow.keras.layers import Dense,LSTM\n",
    "import math\n",
    "from sklearn.metrics import mean_squared_error\n",
    "import pandas_datareader as dr\n",
    "import datetime as dt"
   ]
  },
  {
   "cell_type": "code",
   "execution_count": 2,
   "id": "294b4bfd",
   "metadata": {},
   "outputs": [],
   "source": [
    "# Loding Financial dataset\n",
    "crypto_currency = 'BTC'\n",
    "against_currency = 'USD'\n",
    "\n",
    "start = dt.datetime(2014,9,17)\n",
    "end = dt.datetime.now()\n",
    "\n",
    "df = dr.DataReader(f'{crypto_currency}-{against_currency}','yahoo',start,end)"
   ]
  },
  {
   "cell_type": "code",
   "execution_count": 3,
   "id": "16a992bf",
   "metadata": {},
   "outputs": [
    {
     "data": {
      "text/html": [
       "<div>\n",
       "<style scoped>\n",
       "    .dataframe tbody tr th:only-of-type {\n",
       "        vertical-align: middle;\n",
       "    }\n",
       "\n",
       "    .dataframe tbody tr th {\n",
       "        vertical-align: top;\n",
       "    }\n",
       "\n",
       "    .dataframe thead th {\n",
       "        text-align: right;\n",
       "    }\n",
       "</style>\n",
       "<table border=\"1\" class=\"dataframe\">\n",
       "  <thead>\n",
       "    <tr style=\"text-align: right;\">\n",
       "      <th></th>\n",
       "      <th>High</th>\n",
       "      <th>Low</th>\n",
       "      <th>Open</th>\n",
       "      <th>Close</th>\n",
       "      <th>Volume</th>\n",
       "      <th>Adj Close</th>\n",
       "    </tr>\n",
       "    <tr>\n",
       "      <th>Date</th>\n",
       "      <th></th>\n",
       "      <th></th>\n",
       "      <th></th>\n",
       "      <th></th>\n",
       "      <th></th>\n",
       "      <th></th>\n",
       "    </tr>\n",
       "  </thead>\n",
       "  <tbody>\n",
       "    <tr>\n",
       "      <th>2014-09-17</th>\n",
       "      <td>468.174011</td>\n",
       "      <td>452.421997</td>\n",
       "      <td>465.864014</td>\n",
       "      <td>457.334015</td>\n",
       "      <td>2.105680e+07</td>\n",
       "      <td>457.334015</td>\n",
       "    </tr>\n",
       "    <tr>\n",
       "      <th>2014-09-18</th>\n",
       "      <td>456.859985</td>\n",
       "      <td>413.104004</td>\n",
       "      <td>456.859985</td>\n",
       "      <td>424.440002</td>\n",
       "      <td>3.448320e+07</td>\n",
       "      <td>424.440002</td>\n",
       "    </tr>\n",
       "    <tr>\n",
       "      <th>2014-09-19</th>\n",
       "      <td>427.834991</td>\n",
       "      <td>384.532013</td>\n",
       "      <td>424.102997</td>\n",
       "      <td>394.795990</td>\n",
       "      <td>3.791970e+07</td>\n",
       "      <td>394.795990</td>\n",
       "    </tr>\n",
       "    <tr>\n",
       "      <th>2014-09-20</th>\n",
       "      <td>423.295990</td>\n",
       "      <td>389.882996</td>\n",
       "      <td>394.673004</td>\n",
       "      <td>408.903992</td>\n",
       "      <td>3.686360e+07</td>\n",
       "      <td>408.903992</td>\n",
       "    </tr>\n",
       "    <tr>\n",
       "      <th>2014-09-21</th>\n",
       "      <td>412.425995</td>\n",
       "      <td>393.181000</td>\n",
       "      <td>408.084991</td>\n",
       "      <td>398.821014</td>\n",
       "      <td>2.658010e+07</td>\n",
       "      <td>398.821014</td>\n",
       "    </tr>\n",
       "    <tr>\n",
       "      <th>...</th>\n",
       "      <td>...</td>\n",
       "      <td>...</td>\n",
       "      <td>...</td>\n",
       "      <td>...</td>\n",
       "      <td>...</td>\n",
       "      <td>...</td>\n",
       "    </tr>\n",
       "    <tr>\n",
       "      <th>2022-11-23</th>\n",
       "      <td>16638.193359</td>\n",
       "      <td>16170.502930</td>\n",
       "      <td>16195.588867</td>\n",
       "      <td>16610.707031</td>\n",
       "      <td>3.295888e+10</td>\n",
       "      <td>16610.707031</td>\n",
       "    </tr>\n",
       "    <tr>\n",
       "      <th>2022-11-24</th>\n",
       "      <td>16771.474609</td>\n",
       "      <td>16501.767578</td>\n",
       "      <td>16611.636719</td>\n",
       "      <td>16604.464844</td>\n",
       "      <td>2.612904e+10</td>\n",
       "      <td>16604.464844</td>\n",
       "    </tr>\n",
       "    <tr>\n",
       "      <th>2022-11-25</th>\n",
       "      <td>16603.316406</td>\n",
       "      <td>16388.404297</td>\n",
       "      <td>16602.269531</td>\n",
       "      <td>16521.841797</td>\n",
       "      <td>1.867826e+10</td>\n",
       "      <td>16521.841797</td>\n",
       "    </tr>\n",
       "    <tr>\n",
       "      <th>2022-11-26</th>\n",
       "      <td>16666.863281</td>\n",
       "      <td>16416.228516</td>\n",
       "      <td>16521.576172</td>\n",
       "      <td>16464.281250</td>\n",
       "      <td>1.800001e+10</td>\n",
       "      <td>16464.281250</td>\n",
       "    </tr>\n",
       "    <tr>\n",
       "      <th>2022-11-28</th>\n",
       "      <td>16481.638672</td>\n",
       "      <td>16099.460938</td>\n",
       "      <td>16453.708984</td>\n",
       "      <td>16166.374023</td>\n",
       "      <td>2.501229e+10</td>\n",
       "      <td>16166.374023</td>\n",
       "    </tr>\n",
       "  </tbody>\n",
       "</table>\n",
       "<p>2994 rows × 6 columns</p>\n",
       "</div>"
      ],
      "text/plain": [
       "                    High           Low          Open         Close  \\\n",
       "Date                                                                 \n",
       "2014-09-17    468.174011    452.421997    465.864014    457.334015   \n",
       "2014-09-18    456.859985    413.104004    456.859985    424.440002   \n",
       "2014-09-19    427.834991    384.532013    424.102997    394.795990   \n",
       "2014-09-20    423.295990    389.882996    394.673004    408.903992   \n",
       "2014-09-21    412.425995    393.181000    408.084991    398.821014   \n",
       "...                  ...           ...           ...           ...   \n",
       "2022-11-23  16638.193359  16170.502930  16195.588867  16610.707031   \n",
       "2022-11-24  16771.474609  16501.767578  16611.636719  16604.464844   \n",
       "2022-11-25  16603.316406  16388.404297  16602.269531  16521.841797   \n",
       "2022-11-26  16666.863281  16416.228516  16521.576172  16464.281250   \n",
       "2022-11-28  16481.638672  16099.460938  16453.708984  16166.374023   \n",
       "\n",
       "                  Volume     Adj Close  \n",
       "Date                                    \n",
       "2014-09-17  2.105680e+07    457.334015  \n",
       "2014-09-18  3.448320e+07    424.440002  \n",
       "2014-09-19  3.791970e+07    394.795990  \n",
       "2014-09-20  3.686360e+07    408.903992  \n",
       "2014-09-21  2.658010e+07    398.821014  \n",
       "...                  ...           ...  \n",
       "2022-11-23  3.295888e+10  16610.707031  \n",
       "2022-11-24  2.612904e+10  16604.464844  \n",
       "2022-11-25  1.867826e+10  16521.841797  \n",
       "2022-11-26  1.800001e+10  16464.281250  \n",
       "2022-11-28  2.501229e+10  16166.374023  \n",
       "\n",
       "[2994 rows x 6 columns]"
      ]
     },
     "execution_count": 3,
     "metadata": {},
     "output_type": "execute_result"
    }
   ],
   "source": [
    "df"
   ]
  },
  {
   "cell_type": "code",
   "execution_count": 4,
   "id": "6ca638e7",
   "metadata": {},
   "outputs": [
    {
     "name": "stdout",
     "output_type": "stream",
     "text": [
      "(2994,)\n"
     ]
    },
    {
     "data": {
      "text/plain": [
       "[<matplotlib.lines.Line2D at 0x233bbd54940>]"
      ]
     },
     "execution_count": 4,
     "metadata": {},
     "output_type": "execute_result"
    },
    {
     "data": {
      "image/png": "[encoded data removed]",
      "text/plain": [
       "<Figure size 432x288 with 1 Axes>"
      ]
     },
     "metadata": {
      "needs_background": "light"
     },
     "output_type": "display_data"
    }
   ],
   "source": [
    "df1 = df.reset_index()['Close']\n",
    "print(df1.shape)\n",
    "plt.plot(df1)"
   ]
  },
  {
   "cell_type": "code",
   "execution_count": 5,
   "id": "f9386ab5",
   "metadata": {
    "scrolled": true
   },
   "outputs": [
    {
     "name": "stdout",
     "output_type": "stream",
     "text": [
      "(2994, 1)\n"
     ]
    }
   ],
   "source": [
    "# Scaling\n",
    "scaler = MinMaxScaler(feature_range=(0,1))\n",
    "df1 = scaler.fit_transform(np.array(df1).reshape(-1,1))\n",
    "print(df1.shape)"
   ]
  },
  {
   "cell_type": "code",
   "execution_count": 6,
   "id": "b31cb3c9",
   "metadata": {},
   "outputs": [
    {
     "name": "stdout",
     "output_type": "stream",
     "text": [
      "(1946, 1)\n",
      "(1048, 1)\n"
     ]
    }
   ],
   "source": [
    "# Splittting the dataset\n",
    "training_size = int(len(df1)*0.65)\n",
    "test_size = int(len(df1)) - training_size\n",
    "train_data, test_data = df1[0:training_size,:],df1[training_size:len(df1):1]\n",
    "print(train_data.shape)\n",
    "print(test_data.shape)"
   ]
  },
  {
   "cell_type": "code",
   "execution_count": 7,
   "id": "de65dd88",
   "metadata": {},
   "outputs": [],
   "source": [
    "def create_dataset(dataset, time_step = 1):\n",
    "    datax, datay = [], []\n",
    "    for i in range(len(dataset)-time_step-1):\n",
    "        a = dataset[i:(i+time_step),0]\n",
    "        datax.append(a)\n",
    "        datay.append(dataset[i+time_step,0])\n",
    "    return np.array(datax),np.array(datay)"
   ]
  },
  {
   "cell_type": "code",
   "execution_count": 8,
   "id": "c8def34e",
   "metadata": {},
   "outputs": [],
   "source": [
    "time_step = 100\n",
    "x_train, y_train = create_dataset(train_data,time_step)\n",
    "x_test, y_test = create_dataset(test_data,time_step)"
   ]
  },
  {
   "cell_type": "code",
   "execution_count": 9,
   "id": "18fa78e0",
   "metadata": {},
   "outputs": [
    {
     "data": {
      "text/plain": [
       "((1845, 100), (1845,), (947, 100), (947,))"
      ]
     },
     "execution_count": 9,
     "metadata": {},
     "output_type": "execute_result"
    }
   ],
   "source": [
    "x_train.shape,y_train.shape,x_test.shape,y_test.shape"
   ]
  },
  {
   "cell_type": "code",
   "execution_count": 10,
   "id": "ec9179c9",
   "metadata": {},
   "outputs": [],
   "source": [
    "# reshape input into 3d before giving to LSTM\n",
    "x_train = x_train.reshape(x_train.shape[0],x_train.shape[1],1)\n",
    "x_test = x_test.reshape(x_test.shape[0],x_test.shape[1],1)"
   ]
  },
  {
   "cell_type": "code",
   "execution_count": 11,
   "id": "01ee718a",
   "metadata": {},
   "outputs": [
    {
     "name": "stdout",
     "output_type": "stream",
     "text": [
      "Model: \"sequential\"\n",
      "_________________________________________________________________\n",
      " Layer (type)                Output Shape              Param #   \n",
      "=================================================================\n",
      " lstm (LSTM)                 (None, 100, 50)           10400     \n",
      "                                                                 \n",
      " lstm_1 (LSTM)               (None, 100, 50)           20200     \n",
      "                                                                 \n",
      " lstm_2 (LSTM)               (None, 50)                20200     \n",
      "                                                                 \n",
      " dense (Dense)               (None, 1)                 51        \n",
      "                                                                 \n",
      "=================================================================\n",
      "Total params: 50,851\n",
      "Trainable params: 50,851\n",
      "Non-trainable params: 0\n",
      "_________________________________________________________________\n"
     ]
    }
   ],
   "source": [
    "# Creating stacked LSTM Model\n",
    "model = Sequential()\n",
    "model.add(LSTM(50,return_sequences = True, input_shape =(100,1)))\n",
    "model.add(LSTM(50,return_sequences = True))\n",
    "model.add(LSTM(50))\n",
    "model.add(Dense(1))\n",
    "model.compile(loss ='mean_squared_error', optimizer = 'adam')\n",
    "model.summary()"
   ]
  },
  {
   "cell_type": "code",
   "execution_count": null,
   "id": "6a8a6f94",
   "metadata": {},
   "outputs": [
    {
     "name": "stdout",
     "output_type": "stream",
     "text": [
      "Epoch 1/100\n",
      "29/29 [==============================] - 25s 442ms/step - loss: 0.0013 - val_loss: 0.0070\n",
      "Epoch 2/100\n",
      "29/29 [==============================] - 8s 290ms/step - loss: 2.1819e-04 - val_loss: 0.0053\n",
      "Epoch 3/100\n",
      "29/29 [==============================] - 8s 287ms/step - loss: 1.5589e-04 - val_loss: 0.0061\n",
      "Epoch 4/100\n",
      "29/29 [==============================] - 8s 265ms/step - loss: 1.4058e-04 - val_loss: 0.0116\n",
      "Epoch 5/100\n",
      "29/29 [==============================] - 8s 284ms/step - loss: 1.2385e-04 - val_loss: 0.0106\n",
      "Epoch 6/100\n",
      "29/29 [==============================] - 8s 294ms/step - loss: 1.2266e-04 - val_loss: 0.0130\n",
      "Epoch 7/100\n",
      "29/29 [==============================] - 9s 317ms/step - loss: 1.0980e-04 - val_loss: 0.0150\n",
      "Epoch 8/100\n",
      "29/29 [==============================] - 9s 325ms/step - loss: 1.0459e-04 - val_loss: 0.0169\n",
      "Epoch 9/100\n",
      "29/29 [==============================] - 9s 311ms/step - loss: 9.2382e-05 - val_loss: 0.0197\n",
      "Epoch 10/100\n",
      "29/29 [==============================] - 9s 307ms/step - loss: 8.9864e-05 - val_loss: 0.0282\n",
      "Epoch 11/100\n",
      "29/29 [==============================] - 9s 309ms/step - loss: 1.0739e-04 - val_loss: 0.0198\n",
      "Epoch 12/100\n",
      "29/29 [==============================] - 9s 314ms/step - loss: 9.4819e-05 - val_loss: 0.0237\n",
      "Epoch 13/100\n",
      "29/29 [==============================] - 9s 311ms/step - loss: 8.4220e-05 - val_loss: 0.0178\n",
      "Epoch 14/100\n",
      "29/29 [==============================] - 9s 295ms/step - loss: 8.0862e-05 - val_loss: 0.0220\n",
      "Epoch 15/100\n",
      "29/29 [==============================] - 9s 326ms/step - loss: 8.1795e-05 - val_loss: 0.0169\n",
      "Epoch 16/100\n",
      "29/29 [==============================] - 10s 343ms/step - loss: 9.1509e-05 - val_loss: 0.0145\n",
      "Epoch 17/100\n",
      "29/29 [==============================] - 9s 313ms/step - loss: 7.5979e-05 - val_loss: 0.0217\n",
      "Epoch 18/100\n",
      "29/29 [==============================] - 9s 303ms/step - loss: 8.3263e-05 - val_loss: 0.0166\n",
      "Epoch 19/100\n",
      "29/29 [==============================] - 9s 301ms/step - loss: 8.1058e-05 - val_loss: 0.0158\n",
      "Epoch 20/100\n",
      "29/29 [==============================] - 9s 313ms/step - loss: 6.9146e-05 - val_loss: 0.0184\n",
      "Epoch 21/100\n",
      "29/29 [==============================] - 9s 301ms/step - loss: 6.4915e-05 - val_loss: 0.0196\n",
      "Epoch 22/100\n",
      "29/29 [==============================] - 8s 291ms/step - loss: 6.5412e-05 - val_loss: 0.0121\n",
      "Epoch 23/100\n",
      "29/29 [==============================] - 8s 289ms/step - loss: 6.1968e-05 - val_loss: 0.0125\n",
      "Epoch 24/100\n",
      "29/29 [==============================] - 9s 295ms/step - loss: 5.8219e-05 - val_loss: 0.0144\n",
      "Epoch 25/100\n",
      "29/29 [==============================] - 9s 300ms/step - loss: 5.7610e-05 - val_loss: 0.0124\n",
      "Epoch 26/100\n",
      "29/29 [==============================] - 9s 310ms/step - loss: 6.4291e-05 - val_loss: 0.0153\n",
      "Epoch 27/100\n",
      "29/29 [==============================] - 9s 305ms/step - loss: 5.7414e-05 - val_loss: 0.0145\n",
      "Epoch 28/100\n",
      "29/29 [==============================] - 8s 289ms/step - loss: 5.7014e-05 - val_loss: 0.0097\n",
      "Epoch 29/100\n",
      "29/29 [==============================] - 9s 330ms/step - loss: 5.6359e-05 - val_loss: 0.0064\n",
      "Epoch 30/100\n",
      "29/29 [==============================] - 9s 313ms/step - loss: 5.8511e-05 - val_loss: 0.0100\n",
      "Epoch 31/100\n",
      "29/29 [==============================] - 9s 316ms/step - loss: 5.3578e-05 - val_loss: 0.0096\n",
      "Epoch 32/100\n",
      "29/29 [==============================] - 9s 315ms/step - loss: 5.5151e-05 - val_loss: 0.0115\n",
      "Epoch 33/100\n",
      "29/29 [==============================] - 8s 282ms/step - loss: 5.0710e-05 - val_loss: 0.0116\n",
      "Epoch 34/100\n",
      "29/29 [==============================] - 10s 328ms/step - loss: 5.8550e-05 - val_loss: 0.0101\n",
      "Epoch 35/100\n",
      "29/29 [==============================] - 10s 358ms/step - loss: 5.3899e-05 - val_loss: 0.0097\n",
      "Epoch 36/100\n",
      "29/29 [==============================] - 11s 367ms/step - loss: 5.3565e-05 - val_loss: 0.0093\n",
      "Epoch 37/100\n",
      "29/29 [==============================] - 19s 685ms/step - loss: 5.3052e-05 - val_loss: 0.0090\n",
      "Epoch 38/100\n",
      "29/29 [==============================] - 23s 788ms/step - loss: 5.4104e-05 - val_loss: 0.0046\n",
      "Epoch 39/100\n",
      "29/29 [==============================] - 19s 644ms/step - loss: 4.9966e-05 - val_loss: 0.0109\n",
      "Epoch 40/100\n",
      "29/29 [==============================] - 8s 286ms/step - loss: 4.6514e-05 - val_loss: 0.0067\n",
      "Epoch 41/100\n",
      "29/29 [==============================] - 11s 382ms/step - loss: 4.8353e-05 - val_loss: 0.0047\n",
      "Epoch 42/100\n",
      "29/29 [==============================] - 8s 288ms/step - loss: 4.5400e-05 - val_loss: 0.0042\n",
      "Epoch 43/100\n",
      "29/29 [==============================] - 8s 283ms/step - loss: 4.6260e-05 - val_loss: 0.0053\n",
      "Epoch 44/100\n",
      "29/29 [==============================] - 9s 296ms/step - loss: 4.6481e-05 - val_loss: 0.0060\n",
      "Epoch 45/100\n",
      " 3/29 [==>...........................] - ETA: 7s - loss: 4.5229e-05"
     ]
    }
   ],
   "source": [
    "model.fit(x_train,y_train,validation_data = (x_test,y_test), epochs= 100, batch_size = 64, verbose =1)"
   ]
  },
  {
   "cell_type": "code",
   "execution_count": null,
   "id": "eebcb5a7",
   "metadata": {},
   "outputs": [],
   "source": [
    "# Let's do the prediction\n",
    "train_predict = model.predict(x_train)\n",
    "test_predict = model.predict(x_test)"
   ]
  },
  {
   "cell_type": "code",
   "execution_count": null,
   "id": "05ccfc3e",
   "metadata": {},
   "outputs": [],
   "source": [
    "# transform to orignal form\n",
    "train_predict = scaler.inverse_transform(train_predict)\n",
    "test_predict = scaler.inverse_transform(test_predict)"
   ]
  },
  {
   "cell_type": "code",
   "execution_count": null,
   "id": "fb593a9a",
   "metadata": {},
   "outputs": [],
   "source": [
    "# Calculating RMSE performance metrices\n",
    "print(\"Train Error :\",math.sqrt(mean_squared_error(y_train,train_predict)))\n",
    "print(\"Test Error :\",math.sqrt(mean_squared_error(y_test,test_predict)))"
   ]
  },
  {
   "cell_type": "code",
   "execution_count": null,
   "id": "66c1fb53",
   "metadata": {},
   "outputs": [],
   "source": [
    "# Plotting\n",
    "# shift train prediction for plotting\n",
    "look_back = 100\n",
    "trainPredictPlot = np.empty_like(df1)\n",
    "trainPredictPlot[:,:] = np.nan\n",
    "trainPredictPlot[look_back:len(train_predict)+look_back,:] = train_predict\n",
    "\n",
    "# Shift test prediction for plotting\n",
    "testPredictPlot = np.empty_like(df1)\n",
    "testPredictPlot[:,:] = np.nan\n",
    "testPredictPlot[len(train_predict)+(look_back*2)+1:len(df1)-1,:] = test_predict\n",
    "\n",
    "# plt baseline and prediction\n",
    "plt.plot(scaler.inverse_transform(df1))\n",
    "plt.plot(trainPredictPlot)\n",
    "plt.plot(testPredictPlot)\n",
    "plt.show()"
   ]
  },
  {
   "cell_type": "code",
   "execution_count": null,
   "id": "aebdf04e",
   "metadata": {},
   "outputs": [],
   "source": [
    "x_input = test_data[len(test_data)-100:].reshape(1,-1)\n",
    "x_input.shape"
   ]
  },
  {
   "cell_type": "code",
   "execution_count": null,
   "id": "5cc62271",
   "metadata": {},
   "outputs": [],
   "source": [
    "temp_input = list(x_input)\n",
    "temp_input = temp_input[0].tolist()"
   ]
  },
  {
   "cell_type": "code",
   "execution_count": null,
   "id": "062a1fde",
   "metadata": {},
   "outputs": [],
   "source": [
    "# prediction for future 30 days\n",
    "lst_output=[]\n",
    "n_steps=100\n",
    "i=0\n",
    "while(i<30):\n",
    "    \n",
    "    if(len(temp_input)>100):\n",
    "        #print(temp_input)\n",
    "        x_input=np.array(temp_input[1:])\n",
    "        print(\"{} day input {}\".format(i,x_input))\n",
    "        x_input=x_input.reshape(1,-1)\n",
    "        x_input = x_input.reshape((1, n_steps, 1))\n",
    "        #print(x_input)\n",
    "        yhat = model.predict(x_input, verbose=0)\n",
    "        print(\"{} day output {}\".format(i,yhat))\n",
    "        temp_input.extend(yhat[0].tolist())\n",
    "        temp_input=temp_input[1:]\n",
    "        #print(temp_input)\n",
    "        lst_output.extend(yhat.tolist())\n",
    "        i=i+1\n",
    "    else:\n",
    "        x_input = x_input.reshape((1, n_steps,1))\n",
    "        yhat = model.predict(x_input, verbose=0)\n",
    "        print(yhat[0])\n",
    "        temp_input.extend(yhat[0].tolist())\n",
    "        print(len(temp_input))\n",
    "        lst_output.extend(yhat.tolist())\n",
    "        i=i+1"
   ]
  },
  {
   "cell_type": "code",
   "execution_count": null,
   "id": "dfe9a5e0",
   "metadata": {},
   "outputs": [],
   "source": [
    "day_new = np.arange(1,101)\n",
    "day_pred = np.arange(101,131)\n",
    "plt.plot(day_new,scaler.inverse_transform(df1[len(df1)-100:]))\n",
    "plt.plot(day_pred,scaler.inverse_transform(lst_output))"
   ]
  },
  {
   "cell_type": "code",
   "execution_count": null,
   "id": "3dae603f",
   "metadata": {},
   "outputs": [],
   "source": [
    "df3=df1.tolist()\n",
    "df3.extend(lst_output)\n",
    "plt.plot(df3[1200:])"
   ]
  },
  {
   "cell_type": "code",
   "execution_count": null,
   "id": "c332117c",
   "metadata": {},
   "outputs": [],
   "source": [
    "df3=scaler.inverse_transform(df3).tolist()\n",
    "plt.plot(df3)"
   ]
  }
 ],
 "metadata": {
  "kernelspec": {
   "display_name": "Python 3 (ipykernel)",
   "language": "python",
   "name": "python3"
  },
  "language_info": {
   "codemirror_mode": {
    "name": "ipython",
    "version": 3
   },
   "file_extension": ".py",
   "mimetype": "text/x-python",
   "name": "python",
   "nbconvert_exporter": "python",
   "pygments_lexer": "ipython3",
   "version": "3.9.5"
  }
 },
 "nbformat": 4,
 "nbformat_minor": 5
}
