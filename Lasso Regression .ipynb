{
 "cells": [
  {
   "cell_type": "code",
   "execution_count": 1,
   "id": "99a53f33",
   "metadata": {},
   "outputs": [],
   "source": [
    "# Importing Libraries\n",
    "import pandas as pd\n",
    "import numpy as np\n",
    "import matplotlib.pyplot as plt\n",
    "from sklearn.preprocessing import MinMaxScaler\n",
    "import pandas_datareader as dr\n",
    "import datetime as dt\n",
    "from sklearn import metrics\n",
    "from sklearn.preprocessing import StandardScaler\n",
    "from sklearn.linear_model import Lasso"
   ]
  },
  {
   "cell_type": "code",
   "execution_count": 2,
   "id": "c20775e3",
   "metadata": {},
   "outputs": [],
   "source": [
    "# Loding Financial dataset\n",
    "crypto_currency = 'BTC'\n",
    "against_currency = 'USD'\n",
    "\n",
    "start = dt.datetime(2014,9,17)\n",
    "end = dt.datetime.now()\n",
    "\n",
    "df = dr.DataReader(f'{crypto_currency}-{against_currency}','yahoo',start,end)"
   ]
  },
  {
   "cell_type": "code",
   "execution_count": 3,
   "id": "359aec86",
   "metadata": {},
   "outputs": [
    {
     "data": {
      "text/html": [
       "<div>\n",
       "<style scoped>\n",
       "    .dataframe tbody tr th:only-of-type {\n",
       "        vertical-align: middle;\n",
       "    }\n",
       "\n",
       "    .dataframe tbody tr th {\n",
       "        vertical-align: top;\n",
       "    }\n",
       "\n",
       "    .dataframe thead th {\n",
       "        text-align: right;\n",
       "    }\n",
       "</style>\n",
       "<table border=\"1\" class=\"dataframe\">\n",
       "  <thead>\n",
       "    <tr style=\"text-align: right;\">\n",
       "      <th></th>\n",
       "      <th>High</th>\n",
       "      <th>Low</th>\n",
       "      <th>Open</th>\n",
       "      <th>Close</th>\n",
       "      <th>Volume</th>\n",
       "      <th>Adj Close</th>\n",
       "    </tr>\n",
       "    <tr>\n",
       "      <th>Date</th>\n",
       "      <th></th>\n",
       "      <th></th>\n",
       "      <th></th>\n",
       "      <th></th>\n",
       "      <th></th>\n",
       "      <th></th>\n",
       "    </tr>\n",
       "  </thead>\n",
       "  <tbody>\n",
       "    <tr>\n",
       "      <th>2022-07-14</th>\n",
       "      <td>20789.894531</td>\n",
       "      <td>19689.257812</td>\n",
       "      <td>20211.466797</td>\n",
       "      <td>20569.919922</td>\n",
       "      <td>31158743333</td>\n",
       "      <td>20569.919922</td>\n",
       "    </tr>\n",
       "    <tr>\n",
       "      <th>2022-07-15</th>\n",
       "      <td>21138.244141</td>\n",
       "      <td>20397.000000</td>\n",
       "      <td>20573.156250</td>\n",
       "      <td>20836.328125</td>\n",
       "      <td>25905575359</td>\n",
       "      <td>20836.328125</td>\n",
       "    </tr>\n",
       "    <tr>\n",
       "      <th>2022-07-16</th>\n",
       "      <td>21514.404297</td>\n",
       "      <td>20518.898438</td>\n",
       "      <td>20834.103516</td>\n",
       "      <td>21190.316406</td>\n",
       "      <td>24302954056</td>\n",
       "      <td>21190.316406</td>\n",
       "    </tr>\n",
       "    <tr>\n",
       "      <th>2022-07-17</th>\n",
       "      <td>21600.640625</td>\n",
       "      <td>20778.179688</td>\n",
       "      <td>21195.041016</td>\n",
       "      <td>20779.343750</td>\n",
       "      <td>22927802083</td>\n",
       "      <td>20779.343750</td>\n",
       "    </tr>\n",
       "    <tr>\n",
       "      <th>2022-07-18</th>\n",
       "      <td>22633.033203</td>\n",
       "      <td>20810.478516</td>\n",
       "      <td>20810.478516</td>\n",
       "      <td>22212.921875</td>\n",
       "      <td>33066237952</td>\n",
       "      <td>22212.921875</td>\n",
       "    </tr>\n",
       "  </tbody>\n",
       "</table>\n",
       "</div>"
      ],
      "text/plain": [
       "                    High           Low          Open         Close  \\\n",
       "Date                                                                 \n",
       "2022-07-14  20789.894531  19689.257812  20211.466797  20569.919922   \n",
       "2022-07-15  21138.244141  20397.000000  20573.156250  20836.328125   \n",
       "2022-07-16  21514.404297  20518.898438  20834.103516  21190.316406   \n",
       "2022-07-17  21600.640625  20778.179688  21195.041016  20779.343750   \n",
       "2022-07-18  22633.033203  20810.478516  20810.478516  22212.921875   \n",
       "\n",
       "                 Volume     Adj Close  \n",
       "Date                                   \n",
       "2022-07-14  31158743333  20569.919922  \n",
       "2022-07-15  25905575359  20836.328125  \n",
       "2022-07-16  24302954056  21190.316406  \n",
       "2022-07-17  22927802083  20779.343750  \n",
       "2022-07-18  33066237952  22212.921875  "
      ]
     },
     "execution_count": 3,
     "metadata": {},
     "output_type": "execute_result"
    }
   ],
   "source": [
    "df.tail()"
   ]
  },
  {
   "cell_type": "code",
   "execution_count": 4,
   "id": "76571022",
   "metadata": {},
   "outputs": [
    {
     "name": "stdout",
     "output_type": "stream",
     "text": [
      "(2862,)\n"
     ]
    },
    {
     "data": {
      "text/plain": [
       "[<matplotlib.lines.Line2D at 0x1371661fdf0>]"
      ]
     },
     "execution_count": 4,
     "metadata": {},
     "output_type": "execute_result"
    },
    {
     "data": {
      "image/png": "[encoded data removed]",
      "text/plain": [
       "<Figure size 432x288 with 1 Axes>"
      ]
     },
     "metadata": {
      "needs_background": "light"
     },
     "output_type": "display_data"
    }
   ],
   "source": [
    "df1 = df.reset_index()['Close']\n",
    "print(df1.shape)\n",
    "plt.plot(df1)"
   ]
  },
  {
   "cell_type": "code",
   "execution_count": 5,
   "id": "caceea64",
   "metadata": {},
   "outputs": [
    {
     "name": "stdout",
     "output_type": "stream",
     "text": [
      "(2862, 1)\n"
     ]
    }
   ],
   "source": [
    "# Scaling\n",
    "scaler = MinMaxScaler(feature_range=(0,1))\n",
    "df1 = scaler.fit_transform(np.array(df1).reshape(-1,1))\n",
    "print(df1.shape)"
   ]
  },
  {
   "cell_type": "code",
   "execution_count": 6,
   "id": "b0aefd80",
   "metadata": {},
   "outputs": [
    {
     "name": "stdout",
     "output_type": "stream",
     "text": [
      "(1860, 1)\n",
      "(1002, 1)\n"
     ]
    }
   ],
   "source": [
    "# Splittting the dataset\n",
    "training_size = int(len(df1)*0.65)\n",
    "test_size = int(len(df1)) - training_size\n",
    "train_data, test_data = df1[0:training_size,:],df1[training_size:len(df1):1]\n",
    "print(train_data.shape)\n",
    "print(test_data.shape)"
   ]
  },
  {
   "cell_type": "code",
   "execution_count": 7,
   "id": "a0ccf2b2",
   "metadata": {},
   "outputs": [],
   "source": [
    "def create_dataset(dataset, time_step = 1):\n",
    "    datax, datay = [], []\n",
    "    for i in range(len(dataset)-time_step-1):\n",
    "        a = dataset[i:(i+time_step),0]\n",
    "        datax.append(a)\n",
    "        datay.append(dataset[i+time_step,0])\n",
    "    return np.array(datax),np.array(datay)"
   ]
  },
  {
   "cell_type": "code",
   "execution_count": 8,
   "id": "060353df",
   "metadata": {},
   "outputs": [],
   "source": [
    "time_step = 100\n",
    "x_train, y_train = create_dataset(train_data,time_step)\n",
    "x_test, y_test = create_dataset(test_data,time_step)"
   ]
  },
  {
   "cell_type": "code",
   "execution_count": 9,
   "id": "a3686de3",
   "metadata": {},
   "outputs": [
    {
     "data": {
      "text/plain": [
       "((1759, 100), (1759,), (901, 100), (901,))"
      ]
     },
     "execution_count": 9,
     "metadata": {},
     "output_type": "execute_result"
    }
   ],
   "source": [
    "x_train.shape,y_train.shape,x_test.shape,y_test.shape"
   ]
  },
  {
   "cell_type": "code",
   "execution_count": 10,
   "id": "86c56e74",
   "metadata": {},
   "outputs": [
    {
     "data": {
      "text/plain": [
       "Lasso()"
      ]
     },
     "execution_count": 10,
     "metadata": {},
     "output_type": "execute_result"
    }
   ],
   "source": [
    "# Training\n",
    "model = Lasso()\n",
    "model.fit(x_train, y_train)"
   ]
  },
  {
   "cell_type": "code",
   "execution_count": 11,
   "id": "3c5aa288",
   "metadata": {},
   "outputs": [
    {
     "data": {
      "text/plain": [
       "(1759,)"
      ]
     },
     "execution_count": 11,
     "metadata": {},
     "output_type": "execute_result"
    }
   ],
   "source": [
    "# Let's do the prediction\n",
    "train_predict = model.predict(x_train)\n",
    "test_predict = model.predict(x_test)\n",
    "train_predict.shape"
   ]
  },
  {
   "cell_type": "code",
   "execution_count": 12,
   "id": "f7bc404e",
   "metadata": {},
   "outputs": [
    {
     "name": "stdout",
     "output_type": "stream",
     "text": [
      "Train Analysis\n",
      "Mean Absolute Error: 0.0499\n",
      "Mean Squared Error: 0.0035\n",
      "Root Mean Squared Error: 0.059\n",
      "(R^2) Score: 0.0\n",
      "Train Score : 0.00% \n"
     ]
    }
   ],
   "source": [
    "print(\"Train Analysis\")\n",
    "print(\"Mean Absolute Error:\", round(metrics.mean_absolute_error(y_train, train_predict), 4))\n",
    "print(\"Mean Squared Error:\", round(metrics.mean_squared_error(y_train, train_predict), 4))\n",
    "print(\"Root Mean Squared Error:\", round(np.sqrt(metrics.mean_squared_error(y_train, train_predict)), 4))\n",
    "print(\"(R^2) Score:\", round(metrics.r2_score(y_train, train_predict), 4))\n",
    "print(f'Train Score : {model.score(x_train, y_train) * 100:.2f}% ')"
   ]
  },
  {
   "cell_type": "code",
   "execution_count": 21,
   "id": "c57390ec",
   "metadata": {},
   "outputs": [
    {
     "name": "stdout",
     "output_type": "stream",
     "text": [
      "Test Analysis\n",
      "Mean Absolute Error: 0.4079\n",
      "Mean Squared Error: 0.2369\n",
      "Root Mean Squared Error: 0.4867\n",
      "(R^2) Score: -2.3599\n",
      "Test Score : -235.99% using Lasso Regressor.\n",
      "Accuracy: 19.24908 %.\n"
     ]
    }
   ],
   "source": [
    "print(\"Test Analysis\")\n",
    "print(\"Mean Absolute Error:\", round(metrics.mean_absolute_error(y_test, test_predict), 4))\n",
    "print(\"Mean Squared Error:\", round(metrics.mean_squared_error(y_test, test_predict), 4))\n",
    "print(\"Root Mean Squared Error:\", round(np.sqrt(metrics.mean_squared_error(y_test, test_predict)), 4))\n",
    "print(\"(R^2) Score:\", round(metrics.r2_score(y_test, test_predict), 4))\n",
    "print(f'Test Score : {model.score(x_test, y_test) * 100:.2f}% using Lasso Regressor.')\n",
    "errors = abs(test_predict - y_test)\n",
    "mape = 100 * (errors / y_test)\n",
    "accuracy = 100 - np.mean(mape)\n",
    "print('Accuracy:', round(accuracy,5), '%.') "
   ]
  },
  {
   "cell_type": "code",
   "execution_count": 22,
   "id": "4fc68780",
   "metadata": {},
   "outputs": [
    {
     "data": {
      "text/plain": [
       "[<matplotlib.lines.Line2D at 0x13718739b20>]"
      ]
     },
     "execution_count": 22,
     "metadata": {},
     "output_type": "execute_result"
    },
    {
     "data": {
      "image/png": "[encoded data removed]",
      "text/plain": [
       "<Figure size 432x288 with 1 Axes>"
      ]
     },
     "metadata": {
      "needs_background": "light"
     },
     "output_type": "display_data"
    }
   ],
   "source": [
    "# Train Plot\n",
    "plt.plot(train_data)\n",
    "plt.plot(train_predict)"
   ]
  },
  {
   "cell_type": "code",
   "execution_count": 15,
   "id": "bdee9c9b",
   "metadata": {},
   "outputs": [
    {
     "data": {
      "text/plain": [
       "[<matplotlib.lines.Line2D at 0x13716260ca0>]"
      ]
     },
     "execution_count": 15,
     "metadata": {},
     "output_type": "execute_result"
    },
    {
     "data": {
      "image/png": "[encoded data removed]",
      "text/plain": [
       "<Figure size 432x288 with 1 Axes>"
      ]
     },
     "metadata": {
      "needs_background": "light"
     },
     "output_type": "display_data"
    }
   ],
   "source": [
    "# Test Plot\n",
    "plt.plot(test_data)\n",
    "plt.plot(test_predict)"
   ]
  },
  {
   "cell_type": "code",
   "execution_count": 16,
   "id": "0c8312ba",
   "metadata": {},
   "outputs": [
    {
     "data": {
      "image/png": "[encoded data removed]",
      "text/plain": [
       "<Figure size 432x288 with 1 Axes>"
      ]
     },
     "metadata": {
      "needs_background": "light"
     },
     "output_type": "display_data"
    }
   ],
   "source": [
    "# Plotting\n",
    "# shift train prediction for plotting\n",
    "look_back = 100\n",
    "l = len(df1)\n",
    "trainPredictPlot = np.empty_like(df1)\n",
    "trainPredictPlot =trainPredictPlot.reshape(l,)\n",
    "trainPredictPlot[:] = np.nan\n",
    "trainPredictPlot[look_back:len(train_predict)+look_back] = train_predict\n",
    "\n",
    "# Shift test prediction for plotting\n",
    "testPredictPlot = np.empty_like(df1)\n",
    "testPredictPlot =testPredictPlot.reshape(l,)\n",
    "testPredictPlot[:] = np.nan\n",
    "testPredictPlot[len(train_predict)+(look_back*2)+1:len(df1)-1] = test_predict\n",
    "\n",
    "# plt baseline and prediction\n",
    "plt.plot(df1)\n",
    "plt.plot(trainPredictPlot)\n",
    "plt.plot(testPredictPlot)\n",
    "plt.show()"
   ]
  },
  {
   "cell_type": "code",
   "execution_count": 17,
   "id": "8cfbca12",
   "metadata": {},
   "outputs": [
    {
     "data": {
      "text/plain": [
       "(1, 100)"
      ]
     },
     "execution_count": 17,
     "metadata": {},
     "output_type": "execute_result"
    }
   ],
   "source": [
    "x_input = test_data[len(test_data)-100:].reshape(1,-1)\n",
    "x_input.shape"
   ]
  },
  {
   "cell_type": "code",
   "execution_count": 18,
   "id": "b8cc2fb7",
   "metadata": {},
   "outputs": [],
   "source": [
    "temp_input = list(x_input)\n",
    "temp_input = temp_input[0].tolist()"
   ]
  },
  {
   "cell_type": "code",
   "execution_count": 20,
   "id": "7927b44a",
   "metadata": {},
   "outputs": [
    {
     "name": "stdout",
     "output_type": "stream",
     "text": [
      "0 day input [0.58383356 0.5928155  0.60824162 0.58997128 0.5991412  0.59722723\n",
      " 0.58672797 0.60318862 0.61322791 0.61132297 0.59875387 0.58707473\n",
      " 0.58331164 0.58305288 0.59772915 0.56299266 0.57966697 0.58757196\n",
      " 0.57029898 0.55701858 0.56821064 0.56910448 0.55754653 0.58645223\n",
      " 0.54010575 0.53217833 0.52418042 0.50277198 0.44694198 0.4577146\n",
      " 0.42675169 0.42840474 0.43189718 0.44403812 0.46190235 0.44050121\n",
      " 0.44885483 0.42354516 0.4471999  0.43067497 0.43411006 0.44733922\n",
      " 0.42916389 0.43742455 0.43604117 0.43166155 0.4221696  0.42494939\n",
      " 0.43431381 0.4681538  0.469132   0.4395539  0.4494726  0.43814878\n",
      " 0.44005597 0.44115034 0.46287519 0.45968187 0.44571629 0.44419738\n",
      " 0.42893973 0.41821102 0.39449545 0.33105368 0.32688985 0.33232172\n",
      " 0.29980605 0.30113909 0.27956516 0.30235278 0.30303933 0.30468739\n",
      " 0.29395016 0.31025626 0.31241952 0.31643624 0.30938695 0.3050566\n",
      " 0.29830705 0.29568627 0.29094813 0.28330057 0.28289826 0.28371175\n",
      " 0.29757439 0.29696381 0.30227821 0.31844325 0.31983116 0.31776983\n",
      " 0.30691108 0.29370571 0.28411001 0.29728966 0.30259983 0.30655314\n",
      " 0.31180607 0.30570753 0.32698079 0.05348873]\n",
      "0 day output [0.05348873]\n",
      "1 day input [0.5928155  0.60824162 0.58997128 0.5991412  0.59722723 0.58672797\n",
      " 0.60318862 0.61322791 0.61132297 0.59875387 0.58707473 0.58331164\n",
      " 0.58305288 0.59772915 0.56299266 0.57966697 0.58757196 0.57029898\n",
      " 0.55701858 0.56821064 0.56910448 0.55754653 0.58645223 0.54010575\n",
      " 0.53217833 0.52418042 0.50277198 0.44694198 0.4577146  0.42675169\n",
      " 0.42840474 0.43189718 0.44403812 0.46190235 0.44050121 0.44885483\n",
      " 0.42354516 0.4471999  0.43067497 0.43411006 0.44733922 0.42916389\n",
      " 0.43742455 0.43604117 0.43166155 0.4221696  0.42494939 0.43431381\n",
      " 0.4681538  0.469132   0.4395539  0.4494726  0.43814878 0.44005597\n",
      " 0.44115034 0.46287519 0.45968187 0.44571629 0.44419738 0.42893973\n",
      " 0.41821102 0.39449545 0.33105368 0.32688985 0.33232172 0.29980605\n",
      " 0.30113909 0.27956516 0.30235278 0.30303933 0.30468739 0.29395016\n",
      " 0.31025626 0.31241952 0.31643624 0.30938695 0.3050566  0.29830705\n",
      " 0.29568627 0.29094813 0.28330057 0.28289826 0.28371175 0.29757439\n",
      " 0.29696381 0.30227821 0.31844325 0.31983116 0.31776983 0.30691108\n",
      " 0.29370571 0.28411001 0.29728966 0.30259983 0.30655314 0.31180607\n",
      " 0.30570753 0.32698079 0.05348873 0.05348873]\n",
      "1 day output [0.05348873]\n",
      "2 day input [0.60824162 0.58997128 0.5991412  0.59722723 0.58672797 0.60318862\n",
      " 0.61322791 0.61132297 0.59875387 0.58707473 0.58331164 0.58305288\n",
      " 0.59772915 0.56299266 0.57966697 0.58757196 0.57029898 0.55701858\n",
      " 0.56821064 0.56910448 0.55754653 0.58645223 0.54010575 0.53217833\n",
      " 0.52418042 0.50277198 0.44694198 0.4577146  0.42675169 0.42840474\n",
      " 0.43189718 0.44403812 0.46190235 0.44050121 0.44885483 0.42354516\n",
      " 0.4471999  0.43067497 0.43411006 0.44733922 0.42916389 0.43742455\n",
      " 0.43604117 0.43166155 0.4221696  0.42494939 0.43431381 0.4681538\n",
      " 0.469132   0.4395539  0.4494726  0.43814878 0.44005597 0.44115034\n",
      " 0.46287519 0.45968187 0.44571629 0.44419738 0.42893973 0.41821102\n",
      " 0.39449545 0.33105368 0.32688985 0.33232172 0.29980605 0.30113909\n",
      " 0.27956516 0.30235278 0.30303933 0.30468739 0.29395016 0.31025626\n",
      " 0.31241952 0.31643624 0.30938695 0.3050566  0.29830705 0.29568627\n",
      " 0.29094813 0.28330057 0.28289826 0.28371175 0.29757439 0.29696381\n",
      " 0.30227821 0.31844325 0.31983116 0.31776983 0.30691108 0.29370571\n",
      " 0.28411001 0.29728966 0.30259983 0.30655314 0.31180607 0.30570753\n",
      " 0.32698079 0.05348873 0.05348873 0.05348873]\n",
      "2 day output [0.05348873]\n",
      "3 day input [0.58997128 0.5991412  0.59722723 0.58672797 0.60318862 0.61322791\n",
      " 0.61132297 0.59875387 0.58707473 0.58331164 0.58305288 0.59772915\n",
      " 0.56299266 0.57966697 0.58757196 0.57029898 0.55701858 0.56821064\n",
      " 0.56910448 0.55754653 0.58645223 0.54010575 0.53217833 0.52418042\n",
      " 0.50277198 0.44694198 0.4577146  0.42675169 0.42840474 0.43189718\n",
      " 0.44403812 0.46190235 0.44050121 0.44885483 0.42354516 0.4471999\n",
      " 0.43067497 0.43411006 0.44733922 0.42916389 0.43742455 0.43604117\n",
      " 0.43166155 0.4221696  0.42494939 0.43431381 0.4681538  0.469132\n",
      " 0.4395539  0.4494726  0.43814878 0.44005597 0.44115034 0.46287519\n",
      " 0.45968187 0.44571629 0.44419738 0.42893973 0.41821102 0.39449545\n",
      " 0.33105368 0.32688985 0.33232172 0.29980605 0.30113909 0.27956516\n",
      " 0.30235278 0.30303933 0.30468739 0.29395016 0.31025626 0.31241952\n",
      " 0.31643624 0.30938695 0.3050566  0.29830705 0.29568627 0.29094813\n",
      " 0.28330057 0.28289826 0.28371175 0.29757439 0.29696381 0.30227821\n",
      " 0.31844325 0.31983116 0.31776983 0.30691108 0.29370571 0.28411001\n",
      " 0.29728966 0.30259983 0.30655314 0.31180607 0.30570753 0.32698079\n",
      " 0.05348873 0.05348873 0.05348873 0.05348873]\n",
      "3 day output [0.05348873]\n",
      "4 day input [0.5991412  0.59722723 0.58672797 0.60318862 0.61322791 0.61132297\n",
      " 0.59875387 0.58707473 0.58331164 0.58305288 0.59772915 0.56299266\n",
      " 0.57966697 0.58757196 0.57029898 0.55701858 0.56821064 0.56910448\n",
      " 0.55754653 0.58645223 0.54010575 0.53217833 0.52418042 0.50277198\n",
      " 0.44694198 0.4577146  0.42675169 0.42840474 0.43189718 0.44403812\n",
      " 0.46190235 0.44050121 0.44885483 0.42354516 0.4471999  0.43067497\n",
      " 0.43411006 0.44733922 0.42916389 0.43742455 0.43604117 0.43166155\n",
      " 0.4221696  0.42494939 0.43431381 0.4681538  0.469132   0.4395539\n",
      " 0.4494726  0.43814878 0.44005597 0.44115034 0.46287519 0.45968187\n",
      " 0.44571629 0.44419738 0.42893973 0.41821102 0.39449545 0.33105368\n",
      " 0.32688985 0.33232172 0.29980605 0.30113909 0.27956516 0.30235278\n",
      " 0.30303933 0.30468739 0.29395016 0.31025626 0.31241952 0.31643624\n",
      " 0.30938695 0.3050566  0.29830705 0.29568627 0.29094813 0.28330057\n",
      " 0.28289826 0.28371175 0.29757439 0.29696381 0.30227821 0.31844325\n",
      " 0.31983116 0.31776983 0.30691108 0.29370571 0.28411001 0.29728966\n",
      " 0.30259983 0.30655314 0.31180607 0.30570753 0.32698079 0.05348873\n",
      " 0.05348873 0.05348873 0.05348873 0.05348873]\n",
      "4 day output [0.05348873]\n",
      "5 day input [0.59722723 0.58672797 0.60318862 0.61322791 0.61132297 0.59875387\n",
      " 0.58707473 0.58331164 0.58305288 0.59772915 0.56299266 0.57966697\n",
      " 0.58757196 0.57029898 0.55701858 0.56821064 0.56910448 0.55754653\n",
      " 0.58645223 0.54010575 0.53217833 0.52418042 0.50277198 0.44694198\n",
      " 0.4577146  0.42675169 0.42840474 0.43189718 0.44403812 0.46190235\n",
      " 0.44050121 0.44885483 0.42354516 0.4471999  0.43067497 0.43411006\n",
      " 0.44733922 0.42916389 0.43742455 0.43604117 0.43166155 0.4221696\n",
      " 0.42494939 0.43431381 0.4681538  0.469132   0.4395539  0.4494726\n",
      " 0.43814878 0.44005597 0.44115034 0.46287519 0.45968187 0.44571629\n",
      " 0.44419738 0.42893973 0.41821102 0.39449545 0.33105368 0.32688985\n",
      " 0.33232172 0.29980605 0.30113909 0.27956516 0.30235278 0.30303933\n",
      " 0.30468739 0.29395016 0.31025626 0.31241952 0.31643624 0.30938695\n",
      " 0.3050566  0.29830705 0.29568627 0.29094813 0.28330057 0.28289826\n",
      " 0.28371175 0.29757439 0.29696381 0.30227821 0.31844325 0.31983116\n",
      " 0.31776983 0.30691108 0.29370571 0.28411001 0.29728966 0.30259983\n",
      " 0.30655314 0.31180607 0.30570753 0.32698079 0.05348873 0.05348873\n",
      " 0.05348873 0.05348873 0.05348873 0.05348873]\n",
      "5 day output [0.05348873]\n",
      "6 day input [0.58672797 0.60318862 0.61322791 0.61132297 0.59875387 0.58707473\n",
      " 0.58331164 0.58305288 0.59772915 0.56299266 0.57966697 0.58757196\n",
      " 0.57029898 0.55701858 0.56821064 0.56910448 0.55754653 0.58645223\n",
      " 0.54010575 0.53217833 0.52418042 0.50277198 0.44694198 0.4577146\n",
      " 0.42675169 0.42840474 0.43189718 0.44403812 0.46190235 0.44050121\n",
      " 0.44885483 0.42354516 0.4471999  0.43067497 0.43411006 0.44733922\n",
      " 0.42916389 0.43742455 0.43604117 0.43166155 0.4221696  0.42494939\n",
      " 0.43431381 0.4681538  0.469132   0.4395539  0.4494726  0.43814878\n",
      " 0.44005597 0.44115034 0.46287519 0.45968187 0.44571629 0.44419738\n",
      " 0.42893973 0.41821102 0.39449545 0.33105368 0.32688985 0.33232172\n",
      " 0.29980605 0.30113909 0.27956516 0.30235278 0.30303933 0.30468739\n",
      " 0.29395016 0.31025626 0.31241952 0.31643624 0.30938695 0.3050566\n",
      " 0.29830705 0.29568627 0.29094813 0.28330057 0.28289826 0.28371175\n",
      " 0.29757439 0.29696381 0.30227821 0.31844325 0.31983116 0.31776983\n",
      " 0.30691108 0.29370571 0.28411001 0.29728966 0.30259983 0.30655314\n",
      " 0.31180607 0.30570753 0.32698079 0.05348873 0.05348873 0.05348873\n",
      " 0.05348873 0.05348873 0.05348873 0.05348873]\n",
      "6 day output [0.05348873]\n",
      "7 day input [0.60318862 0.61322791 0.61132297 0.59875387 0.58707473 0.58331164\n",
      " 0.58305288 0.59772915 0.56299266 0.57966697 0.58757196 0.57029898\n",
      " 0.55701858 0.56821064 0.56910448 0.55754653 0.58645223 0.54010575\n",
      " 0.53217833 0.52418042 0.50277198 0.44694198 0.4577146  0.42675169\n",
      " 0.42840474 0.43189718 0.44403812 0.46190235 0.44050121 0.44885483\n",
      " 0.42354516 0.4471999  0.43067497 0.43411006 0.44733922 0.42916389\n",
      " 0.43742455 0.43604117 0.43166155 0.4221696  0.42494939 0.43431381\n",
      " 0.4681538  0.469132   0.4395539  0.4494726  0.43814878 0.44005597\n",
      " 0.44115034 0.46287519 0.45968187 0.44571629 0.44419738 0.42893973\n",
      " 0.41821102 0.39449545 0.33105368 0.32688985 0.33232172 0.29980605\n",
      " 0.30113909 0.27956516 0.30235278 0.30303933 0.30468739 0.29395016\n",
      " 0.31025626 0.31241952 0.31643624 0.30938695 0.3050566  0.29830705\n",
      " 0.29568627 0.29094813 0.28330057 0.28289826 0.28371175 0.29757439\n",
      " 0.29696381 0.30227821 0.31844325 0.31983116 0.31776983 0.30691108\n",
      " 0.29370571 0.28411001 0.29728966 0.30259983 0.30655314 0.31180607\n",
      " 0.30570753 0.32698079 0.05348873 0.05348873 0.05348873 0.05348873\n",
      " 0.05348873 0.05348873 0.05348873 0.05348873]\n",
      "7 day output [0.05348873]\n",
      "8 day input [0.61322791 0.61132297 0.59875387 0.58707473 0.58331164 0.58305288\n",
      " 0.59772915 0.56299266 0.57966697 0.58757196 0.57029898 0.55701858\n",
      " 0.56821064 0.56910448 0.55754653 0.58645223 0.54010575 0.53217833\n",
      " 0.52418042 0.50277198 0.44694198 0.4577146  0.42675169 0.42840474\n",
      " 0.43189718 0.44403812 0.46190235 0.44050121 0.44885483 0.42354516\n",
      " 0.4471999  0.43067497 0.43411006 0.44733922 0.42916389 0.43742455\n",
      " 0.43604117 0.43166155 0.4221696  0.42494939 0.43431381 0.4681538\n",
      " 0.469132   0.4395539  0.4494726  0.43814878 0.44005597 0.44115034\n",
      " 0.46287519 0.45968187 0.44571629 0.44419738 0.42893973 0.41821102\n",
      " 0.39449545 0.33105368 0.32688985 0.33232172 0.29980605 0.30113909\n",
      " 0.27956516 0.30235278 0.30303933 0.30468739 0.29395016 0.31025626\n",
      " 0.31241952 0.31643624 0.30938695 0.3050566  0.29830705 0.29568627\n",
      " 0.29094813 0.28330057 0.28289826 0.28371175 0.29757439 0.29696381\n",
      " 0.30227821 0.31844325 0.31983116 0.31776983 0.30691108 0.29370571\n",
      " 0.28411001 0.29728966 0.30259983 0.30655314 0.31180607 0.30570753\n",
      " 0.32698079 0.05348873 0.05348873 0.05348873 0.05348873 0.05348873\n",
      " 0.05348873 0.05348873 0.05348873 0.05348873]\n",
      "8 day output [0.05348873]\n",
      "9 day input [0.61132297 0.59875387 0.58707473 0.58331164 0.58305288 0.59772915\n",
      " 0.56299266 0.57966697 0.58757196 0.57029898 0.55701858 0.56821064\n",
      " 0.56910448 0.55754653 0.58645223 0.54010575 0.53217833 0.52418042\n",
      " 0.50277198 0.44694198 0.4577146  0.42675169 0.42840474 0.43189718\n",
      " 0.44403812 0.46190235 0.44050121 0.44885483 0.42354516 0.4471999\n",
      " 0.43067497 0.43411006 0.44733922 0.42916389 0.43742455 0.43604117\n",
      " 0.43166155 0.4221696  0.42494939 0.43431381 0.4681538  0.469132\n",
      " 0.4395539  0.4494726  0.43814878 0.44005597 0.44115034 0.46287519\n",
      " 0.45968187 0.44571629 0.44419738 0.42893973 0.41821102 0.39449545\n",
      " 0.33105368 0.32688985 0.33232172 0.29980605 0.30113909 0.27956516\n",
      " 0.30235278 0.30303933 0.30468739 0.29395016 0.31025626 0.31241952\n",
      " 0.31643624 0.30938695 0.3050566  0.29830705 0.29568627 0.29094813\n",
      " 0.28330057 0.28289826 0.28371175 0.29757439 0.29696381 0.30227821\n",
      " 0.31844325 0.31983116 0.31776983 0.30691108 0.29370571 0.28411001\n",
      " 0.29728966 0.30259983 0.30655314 0.31180607 0.30570753 0.32698079\n",
      " 0.05348873 0.05348873 0.05348873 0.05348873 0.05348873 0.05348873\n",
      " 0.05348873 0.05348873 0.05348873 0.05348873]\n",
      "9 day output [0.05348873]\n",
      "10 day input [0.59875387 0.58707473 0.58331164 0.58305288 0.59772915 0.56299266\n",
      " 0.57966697 0.58757196 0.57029898 0.55701858 0.56821064 0.56910448\n",
      " 0.55754653 0.58645223 0.54010575 0.53217833 0.52418042 0.50277198\n",
      " 0.44694198 0.4577146  0.42675169 0.42840474 0.43189718 0.44403812\n",
      " 0.46190235 0.44050121 0.44885483 0.42354516 0.4471999  0.43067497\n",
      " 0.43411006 0.44733922 0.42916389 0.43742455 0.43604117 0.43166155\n",
      " 0.4221696  0.42494939 0.43431381 0.4681538  0.469132   0.4395539\n",
      " 0.4494726  0.43814878 0.44005597 0.44115034 0.46287519 0.45968187\n",
      " 0.44571629 0.44419738 0.42893973 0.41821102 0.39449545 0.33105368\n",
      " 0.32688985 0.33232172 0.29980605 0.30113909 0.27956516 0.30235278\n",
      " 0.30303933 0.30468739 0.29395016 0.31025626 0.31241952 0.31643624\n",
      " 0.30938695 0.3050566  0.29830705 0.29568627 0.29094813 0.28330057\n",
      " 0.28289826 0.28371175 0.29757439 0.29696381 0.30227821 0.31844325\n",
      " 0.31983116 0.31776983 0.30691108 0.29370571 0.28411001 0.29728966\n",
      " 0.30259983 0.30655314 0.31180607 0.30570753 0.32698079 0.05348873\n",
      " 0.05348873 0.05348873 0.05348873 0.05348873 0.05348873 0.05348873\n",
      " 0.05348873 0.05348873 0.05348873 0.05348873]\n",
      "10 day output [0.05348873]\n",
      "11 day input [0.58707473 0.58331164 0.58305288 0.59772915 0.56299266 0.57966697\n",
      " 0.58757196 0.57029898 0.55701858 0.56821064 0.56910448 0.55754653\n",
      " 0.58645223 0.54010575 0.53217833 0.52418042 0.50277198 0.44694198\n",
      " 0.4577146  0.42675169 0.42840474 0.43189718 0.44403812 0.46190235\n",
      " 0.44050121 0.44885483 0.42354516 0.4471999  0.43067497 0.43411006\n",
      " 0.44733922 0.42916389 0.43742455 0.43604117 0.43166155 0.4221696\n",
      " 0.42494939 0.43431381 0.4681538  0.469132   0.4395539  0.4494726\n",
      " 0.43814878 0.44005597 0.44115034 0.46287519 0.45968187 0.44571629\n",
      " 0.44419738 0.42893973 0.41821102 0.39449545 0.33105368 0.32688985\n",
      " 0.33232172 0.29980605 0.30113909 0.27956516 0.30235278 0.30303933\n",
      " 0.30468739 0.29395016 0.31025626 0.31241952 0.31643624 0.30938695\n",
      " 0.3050566  0.29830705 0.29568627 0.29094813 0.28330057 0.28289826\n",
      " 0.28371175 0.29757439 0.29696381 0.30227821 0.31844325 0.31983116\n",
      " 0.31776983 0.30691108 0.29370571 0.28411001 0.29728966 0.30259983\n",
      " 0.30655314 0.31180607 0.30570753 0.32698079 0.05348873 0.05348873\n",
      " 0.05348873 0.05348873 0.05348873 0.05348873 0.05348873 0.05348873\n",
      " 0.05348873 0.05348873 0.05348873 0.05348873]\n",
      "11 day output [0.05348873]\n",
      "12 day input [0.58331164 0.58305288 0.59772915 0.56299266 0.57966697 0.58757196\n",
      " 0.57029898 0.55701858 0.56821064 0.56910448 0.55754653 0.58645223\n",
      " 0.54010575 0.53217833 0.52418042 0.50277198 0.44694198 0.4577146\n",
      " 0.42675169 0.42840474 0.43189718 0.44403812 0.46190235 0.44050121\n",
      " 0.44885483 0.42354516 0.4471999  0.43067497 0.43411006 0.44733922\n",
      " 0.42916389 0.43742455 0.43604117 0.43166155 0.4221696  0.42494939\n",
      " 0.43431381 0.4681538  0.469132   0.4395539  0.4494726  0.43814878\n",
      " 0.44005597 0.44115034 0.46287519 0.45968187 0.44571629 0.44419738\n",
      " 0.42893973 0.41821102 0.39449545 0.33105368 0.32688985 0.33232172\n",
      " 0.29980605 0.30113909 0.27956516 0.30235278 0.30303933 0.30468739\n",
      " 0.29395016 0.31025626 0.31241952 0.31643624 0.30938695 0.3050566\n",
      " 0.29830705 0.29568627 0.29094813 0.28330057 0.28289826 0.28371175\n",
      " 0.29757439 0.29696381 0.30227821 0.31844325 0.31983116 0.31776983\n",
      " 0.30691108 0.29370571 0.28411001 0.29728966 0.30259983 0.30655314\n",
      " 0.31180607 0.30570753 0.32698079 0.05348873 0.05348873 0.05348873\n",
      " 0.05348873 0.05348873 0.05348873 0.05348873 0.05348873 0.05348873\n",
      " 0.05348873 0.05348873 0.05348873 0.05348873]\n",
      "12 day output [0.05348873]\n",
      "13 day input [0.58305288 0.59772915 0.56299266 0.57966697 0.58757196 0.57029898\n",
      " 0.55701858 0.56821064 0.56910448 0.55754653 0.58645223 0.54010575\n",
      " 0.53217833 0.52418042 0.50277198 0.44694198 0.4577146  0.42675169\n",
      " 0.42840474 0.43189718 0.44403812 0.46190235 0.44050121 0.44885483\n",
      " 0.42354516 0.4471999  0.43067497 0.43411006 0.44733922 0.42916389\n",
      " 0.43742455 0.43604117 0.43166155 0.4221696  0.42494939 0.43431381\n",
      " 0.4681538  0.469132   0.4395539  0.4494726  0.43814878 0.44005597\n",
      " 0.44115034 0.46287519 0.45968187 0.44571629 0.44419738 0.42893973\n",
      " 0.41821102 0.39449545 0.33105368 0.32688985 0.33232172 0.29980605\n",
      " 0.30113909 0.27956516 0.30235278 0.30303933 0.30468739 0.29395016\n",
      " 0.31025626 0.31241952 0.31643624 0.30938695 0.3050566  0.29830705\n",
      " 0.29568627 0.29094813 0.28330057 0.28289826 0.28371175 0.29757439\n",
      " 0.29696381 0.30227821 0.31844325 0.31983116 0.31776983 0.30691108\n",
      " 0.29370571 0.28411001 0.29728966 0.30259983 0.30655314 0.31180607\n",
      " 0.30570753 0.32698079 0.05348873 0.05348873 0.05348873 0.05348873\n",
      " 0.05348873 0.05348873 0.05348873 0.05348873 0.05348873 0.05348873\n",
      " 0.05348873 0.05348873 0.05348873 0.05348873]\n",
      "13 day output [0.05348873]\n",
      "14 day input [0.59772915 0.56299266 0.57966697 0.58757196 0.57029898 0.55701858\n",
      " 0.56821064 0.56910448 0.55754653 0.58645223 0.54010575 0.53217833\n",
      " 0.52418042 0.50277198 0.44694198 0.4577146  0.42675169 0.42840474\n",
      " 0.43189718 0.44403812 0.46190235 0.44050121 0.44885483 0.42354516\n",
      " 0.4471999  0.43067497 0.43411006 0.44733922 0.42916389 0.43742455\n",
      " 0.43604117 0.43166155 0.4221696  0.42494939 0.43431381 0.4681538\n",
      " 0.469132   0.4395539  0.4494726  0.43814878 0.44005597 0.44115034\n",
      " 0.46287519 0.45968187 0.44571629 0.44419738 0.42893973 0.41821102\n",
      " 0.39449545 0.33105368 0.32688985 0.33232172 0.29980605 0.30113909\n",
      " 0.27956516 0.30235278 0.30303933 0.30468739 0.29395016 0.31025626\n",
      " 0.31241952 0.31643624 0.30938695 0.3050566  0.29830705 0.29568627\n",
      " 0.29094813 0.28330057 0.28289826 0.28371175 0.29757439 0.29696381\n",
      " 0.30227821 0.31844325 0.31983116 0.31776983 0.30691108 0.29370571\n",
      " 0.28411001 0.29728966 0.30259983 0.30655314 0.31180607 0.30570753\n",
      " 0.32698079 0.05348873 0.05348873 0.05348873 0.05348873 0.05348873\n",
      " 0.05348873 0.05348873 0.05348873 0.05348873 0.05348873 0.05348873\n",
      " 0.05348873 0.05348873 0.05348873 0.05348873]\n",
      "14 day output [0.05348873]\n",
      "15 day input [0.56299266 0.57966697 0.58757196 0.57029898 0.55701858 0.56821064\n",
      " 0.56910448 0.55754653 0.58645223 0.54010575 0.53217833 0.52418042\n",
      " 0.50277198 0.44694198 0.4577146  0.42675169 0.42840474 0.43189718\n",
      " 0.44403812 0.46190235 0.44050121 0.44885483 0.42354516 0.4471999\n",
      " 0.43067497 0.43411006 0.44733922 0.42916389 0.43742455 0.43604117\n",
      " 0.43166155 0.4221696  0.42494939 0.43431381 0.4681538  0.469132\n",
      " 0.4395539  0.4494726  0.43814878 0.44005597 0.44115034 0.46287519\n",
      " 0.45968187 0.44571629 0.44419738 0.42893973 0.41821102 0.39449545\n",
      " 0.33105368 0.32688985 0.33232172 0.29980605 0.30113909 0.27956516\n",
      " 0.30235278 0.30303933 0.30468739 0.29395016 0.31025626 0.31241952\n",
      " 0.31643624 0.30938695 0.3050566  0.29830705 0.29568627 0.29094813\n",
      " 0.28330057 0.28289826 0.28371175 0.29757439 0.29696381 0.30227821\n",
      " 0.31844325 0.31983116 0.31776983 0.30691108 0.29370571 0.28411001\n",
      " 0.29728966 0.30259983 0.30655314 0.31180607 0.30570753 0.32698079\n",
      " 0.05348873 0.05348873 0.05348873 0.05348873 0.05348873 0.05348873\n",
      " 0.05348873 0.05348873 0.05348873 0.05348873 0.05348873 0.05348873\n",
      " 0.05348873 0.05348873 0.05348873 0.05348873]\n",
      "15 day output [0.05348873]\n",
      "16 day input [0.57966697 0.58757196 0.57029898 0.55701858 0.56821064 0.56910448\n",
      " 0.55754653 0.58645223 0.54010575 0.53217833 0.52418042 0.50277198\n",
      " 0.44694198 0.4577146  0.42675169 0.42840474 0.43189718 0.44403812\n",
      " 0.46190235 0.44050121 0.44885483 0.42354516 0.4471999  0.43067497\n",
      " 0.43411006 0.44733922 0.42916389 0.43742455 0.43604117 0.43166155\n",
      " 0.4221696  0.42494939 0.43431381 0.4681538  0.469132   0.4395539\n",
      " 0.4494726  0.43814878 0.44005597 0.44115034 0.46287519 0.45968187\n",
      " 0.44571629 0.44419738 0.42893973 0.41821102 0.39449545 0.33105368\n",
      " 0.32688985 0.33232172 0.29980605 0.30113909 0.27956516 0.30235278\n",
      " 0.30303933 0.30468739 0.29395016 0.31025626 0.31241952 0.31643624\n",
      " 0.30938695 0.3050566  0.29830705 0.29568627 0.29094813 0.28330057\n",
      " 0.28289826 0.28371175 0.29757439 0.29696381 0.30227821 0.31844325\n",
      " 0.31983116 0.31776983 0.30691108 0.29370571 0.28411001 0.29728966\n",
      " 0.30259983 0.30655314 0.31180607 0.30570753 0.32698079 0.05348873\n",
      " 0.05348873 0.05348873 0.05348873 0.05348873 0.05348873 0.05348873\n",
      " 0.05348873 0.05348873 0.05348873 0.05348873 0.05348873 0.05348873\n",
      " 0.05348873 0.05348873 0.05348873 0.05348873]\n",
      "16 day output [0.05348873]\n",
      "17 day input [0.58757196 0.57029898 0.55701858 0.56821064 0.56910448 0.55754653\n",
      " 0.58645223 0.54010575 0.53217833 0.52418042 0.50277198 0.44694198\n",
      " 0.4577146  0.42675169 0.42840474 0.43189718 0.44403812 0.46190235\n",
      " 0.44050121 0.44885483 0.42354516 0.4471999  0.43067497 0.43411006\n",
      " 0.44733922 0.42916389 0.43742455 0.43604117 0.43166155 0.4221696\n",
      " 0.42494939 0.43431381 0.4681538  0.469132   0.4395539  0.4494726\n",
      " 0.43814878 0.44005597 0.44115034 0.46287519 0.45968187 0.44571629\n",
      " 0.44419738 0.42893973 0.41821102 0.39449545 0.33105368 0.32688985\n",
      " 0.33232172 0.29980605 0.30113909 0.27956516 0.30235278 0.30303933\n",
      " 0.30468739 0.29395016 0.31025626 0.31241952 0.31643624 0.30938695\n",
      " 0.3050566  0.29830705 0.29568627 0.29094813 0.28330057 0.28289826\n",
      " 0.28371175 0.29757439 0.29696381 0.30227821 0.31844325 0.31983116\n",
      " 0.31776983 0.30691108 0.29370571 0.28411001 0.29728966 0.30259983\n",
      " 0.30655314 0.31180607 0.30570753 0.32698079 0.05348873 0.05348873\n",
      " 0.05348873 0.05348873 0.05348873 0.05348873 0.05348873 0.05348873\n",
      " 0.05348873 0.05348873 0.05348873 0.05348873 0.05348873 0.05348873\n",
      " 0.05348873 0.05348873 0.05348873 0.05348873]\n",
      "17 day output [0.05348873]\n",
      "18 day input [0.57029898 0.55701858 0.56821064 0.56910448 0.55754653 0.58645223\n",
      " 0.54010575 0.53217833 0.52418042 0.50277198 0.44694198 0.4577146\n",
      " 0.42675169 0.42840474 0.43189718 0.44403812 0.46190235 0.44050121\n",
      " 0.44885483 0.42354516 0.4471999  0.43067497 0.43411006 0.44733922\n",
      " 0.42916389 0.43742455 0.43604117 0.43166155 0.4221696  0.42494939\n",
      " 0.43431381 0.4681538  0.469132   0.4395539  0.4494726  0.43814878\n",
      " 0.44005597 0.44115034 0.46287519 0.45968187 0.44571629 0.44419738\n",
      " 0.42893973 0.41821102 0.39449545 0.33105368 0.32688985 0.33232172\n",
      " 0.29980605 0.30113909 0.27956516 0.30235278 0.30303933 0.30468739\n",
      " 0.29395016 0.31025626 0.31241952 0.31643624 0.30938695 0.3050566\n",
      " 0.29830705 0.29568627 0.29094813 0.28330057 0.28289826 0.28371175\n",
      " 0.29757439 0.29696381 0.30227821 0.31844325 0.31983116 0.31776983\n",
      " 0.30691108 0.29370571 0.28411001 0.29728966 0.30259983 0.30655314\n",
      " 0.31180607 0.30570753 0.32698079 0.05348873 0.05348873 0.05348873\n",
      " 0.05348873 0.05348873 0.05348873 0.05348873 0.05348873 0.05348873\n",
      " 0.05348873 0.05348873 0.05348873 0.05348873 0.05348873 0.05348873\n",
      " 0.05348873 0.05348873 0.05348873 0.05348873]\n",
      "18 day output [0.05348873]\n",
      "19 day input [0.55701858 0.56821064 0.56910448 0.55754653 0.58645223 0.54010575\n",
      " 0.53217833 0.52418042 0.50277198 0.44694198 0.4577146  0.42675169\n",
      " 0.42840474 0.43189718 0.44403812 0.46190235 0.44050121 0.44885483\n",
      " 0.42354516 0.4471999  0.43067497 0.43411006 0.44733922 0.42916389\n",
      " 0.43742455 0.43604117 0.43166155 0.4221696  0.42494939 0.43431381\n",
      " 0.4681538  0.469132   0.4395539  0.4494726  0.43814878 0.44005597\n",
      " 0.44115034 0.46287519 0.45968187 0.44571629 0.44419738 0.42893973\n",
      " 0.41821102 0.39449545 0.33105368 0.32688985 0.33232172 0.29980605\n",
      " 0.30113909 0.27956516 0.30235278 0.30303933 0.30468739 0.29395016\n",
      " 0.31025626 0.31241952 0.31643624 0.30938695 0.3050566  0.29830705\n",
      " 0.29568627 0.29094813 0.28330057 0.28289826 0.28371175 0.29757439\n",
      " 0.29696381 0.30227821 0.31844325 0.31983116 0.31776983 0.30691108\n",
      " 0.29370571 0.28411001 0.29728966 0.30259983 0.30655314 0.31180607\n",
      " 0.30570753 0.32698079 0.05348873 0.05348873 0.05348873 0.05348873\n",
      " 0.05348873 0.05348873 0.05348873 0.05348873 0.05348873 0.05348873\n",
      " 0.05348873 0.05348873 0.05348873 0.05348873 0.05348873 0.05348873\n",
      " 0.05348873 0.05348873 0.05348873 0.05348873]\n",
      "19 day output [0.05348873]\n",
      "20 day input [0.56821064 0.56910448 0.55754653 0.58645223 0.54010575 0.53217833\n",
      " 0.52418042 0.50277198 0.44694198 0.4577146  0.42675169 0.42840474\n",
      " 0.43189718 0.44403812 0.46190235 0.44050121 0.44885483 0.42354516\n",
      " 0.4471999  0.43067497 0.43411006 0.44733922 0.42916389 0.43742455\n",
      " 0.43604117 0.43166155 0.4221696  0.42494939 0.43431381 0.4681538\n",
      " 0.469132   0.4395539  0.4494726  0.43814878 0.44005597 0.44115034\n",
      " 0.46287519 0.45968187 0.44571629 0.44419738 0.42893973 0.41821102\n",
      " 0.39449545 0.33105368 0.32688985 0.33232172 0.29980605 0.30113909\n",
      " 0.27956516 0.30235278 0.30303933 0.30468739 0.29395016 0.31025626\n",
      " 0.31241952 0.31643624 0.30938695 0.3050566  0.29830705 0.29568627\n",
      " 0.29094813 0.28330057 0.28289826 0.28371175 0.29757439 0.29696381\n",
      " 0.30227821 0.31844325 0.31983116 0.31776983 0.30691108 0.29370571\n",
      " 0.28411001 0.29728966 0.30259983 0.30655314 0.31180607 0.30570753\n",
      " 0.32698079 0.05348873 0.05348873 0.05348873 0.05348873 0.05348873\n",
      " 0.05348873 0.05348873 0.05348873 0.05348873 0.05348873 0.05348873\n",
      " 0.05348873 0.05348873 0.05348873 0.05348873 0.05348873 0.05348873\n",
      " 0.05348873 0.05348873 0.05348873 0.05348873]\n",
      "20 day output [0.05348873]\n",
      "21 day input [0.56910448 0.55754653 0.58645223 0.54010575 0.53217833 0.52418042\n",
      " 0.50277198 0.44694198 0.4577146  0.42675169 0.42840474 0.43189718\n",
      " 0.44403812 0.46190235 0.44050121 0.44885483 0.42354516 0.4471999\n",
      " 0.43067497 0.43411006 0.44733922 0.42916389 0.43742455 0.43604117\n",
      " 0.43166155 0.4221696  0.42494939 0.43431381 0.4681538  0.469132\n",
      " 0.4395539  0.4494726  0.43814878 0.44005597 0.44115034 0.46287519\n",
      " 0.45968187 0.44571629 0.44419738 0.42893973 0.41821102 0.39449545\n",
      " 0.33105368 0.32688985 0.33232172 0.29980605 0.30113909 0.27956516\n",
      " 0.30235278 0.30303933 0.30468739 0.29395016 0.31025626 0.31241952\n",
      " 0.31643624 0.30938695 0.3050566  0.29830705 0.29568627 0.29094813\n",
      " 0.28330057 0.28289826 0.28371175 0.29757439 0.29696381 0.30227821\n",
      " 0.31844325 0.31983116 0.31776983 0.30691108 0.29370571 0.28411001\n",
      " 0.29728966 0.30259983 0.30655314 0.31180607 0.30570753 0.32698079\n",
      " 0.05348873 0.05348873 0.05348873 0.05348873 0.05348873 0.05348873\n",
      " 0.05348873 0.05348873 0.05348873 0.05348873 0.05348873 0.05348873\n",
      " 0.05348873 0.05348873 0.05348873 0.05348873 0.05348873 0.05348873\n",
      " 0.05348873 0.05348873 0.05348873 0.05348873]\n",
      "21 day output [0.05348873]\n",
      "22 day input [0.55754653 0.58645223 0.54010575 0.53217833 0.52418042 0.50277198\n",
      " 0.44694198 0.4577146  0.42675169 0.42840474 0.43189718 0.44403812\n",
      " 0.46190235 0.44050121 0.44885483 0.42354516 0.4471999  0.43067497\n",
      " 0.43411006 0.44733922 0.42916389 0.43742455 0.43604117 0.43166155\n",
      " 0.4221696  0.42494939 0.43431381 0.4681538  0.469132   0.4395539\n",
      " 0.4494726  0.43814878 0.44005597 0.44115034 0.46287519 0.45968187\n",
      " 0.44571629 0.44419738 0.42893973 0.41821102 0.39449545 0.33105368\n",
      " 0.32688985 0.33232172 0.29980605 0.30113909 0.27956516 0.30235278\n",
      " 0.30303933 0.30468739 0.29395016 0.31025626 0.31241952 0.31643624\n",
      " 0.30938695 0.3050566  0.29830705 0.29568627 0.29094813 0.28330057\n",
      " 0.28289826 0.28371175 0.29757439 0.29696381 0.30227821 0.31844325\n",
      " 0.31983116 0.31776983 0.30691108 0.29370571 0.28411001 0.29728966\n",
      " 0.30259983 0.30655314 0.31180607 0.30570753 0.32698079 0.05348873\n",
      " 0.05348873 0.05348873 0.05348873 0.05348873 0.05348873 0.05348873\n",
      " 0.05348873 0.05348873 0.05348873 0.05348873 0.05348873 0.05348873\n",
      " 0.05348873 0.05348873 0.05348873 0.05348873 0.05348873 0.05348873\n",
      " 0.05348873 0.05348873 0.05348873 0.05348873]\n",
      "22 day output [0.05348873]\n",
      "23 day input [0.58645223 0.54010575 0.53217833 0.52418042 0.50277198 0.44694198\n",
      " 0.4577146  0.42675169 0.42840474 0.43189718 0.44403812 0.46190235\n",
      " 0.44050121 0.44885483 0.42354516 0.4471999  0.43067497 0.43411006\n",
      " 0.44733922 0.42916389 0.43742455 0.43604117 0.43166155 0.4221696\n",
      " 0.42494939 0.43431381 0.4681538  0.469132   0.4395539  0.4494726\n",
      " 0.43814878 0.44005597 0.44115034 0.46287519 0.45968187 0.44571629\n",
      " 0.44419738 0.42893973 0.41821102 0.39449545 0.33105368 0.32688985\n",
      " 0.33232172 0.29980605 0.30113909 0.27956516 0.30235278 0.30303933\n",
      " 0.30468739 0.29395016 0.31025626 0.31241952 0.31643624 0.30938695\n",
      " 0.3050566  0.29830705 0.29568627 0.29094813 0.28330057 0.28289826\n",
      " 0.28371175 0.29757439 0.29696381 0.30227821 0.31844325 0.31983116\n",
      " 0.31776983 0.30691108 0.29370571 0.28411001 0.29728966 0.30259983\n",
      " 0.30655314 0.31180607 0.30570753 0.32698079 0.05348873 0.05348873\n",
      " 0.05348873 0.05348873 0.05348873 0.05348873 0.05348873 0.05348873\n",
      " 0.05348873 0.05348873 0.05348873 0.05348873 0.05348873 0.05348873\n",
      " 0.05348873 0.05348873 0.05348873 0.05348873 0.05348873 0.05348873\n",
      " 0.05348873 0.05348873 0.05348873 0.05348873]\n",
      "23 day output [0.05348873]\n",
      "24 day input [0.54010575 0.53217833 0.52418042 0.50277198 0.44694198 0.4577146\n",
      " 0.42675169 0.42840474 0.43189718 0.44403812 0.46190235 0.44050121\n",
      " 0.44885483 0.42354516 0.4471999  0.43067497 0.43411006 0.44733922\n",
      " 0.42916389 0.43742455 0.43604117 0.43166155 0.4221696  0.42494939\n",
      " 0.43431381 0.4681538  0.469132   0.4395539  0.4494726  0.43814878\n",
      " 0.44005597 0.44115034 0.46287519 0.45968187 0.44571629 0.44419738\n",
      " 0.42893973 0.41821102 0.39449545 0.33105368 0.32688985 0.33232172\n",
      " 0.29980605 0.30113909 0.27956516 0.30235278 0.30303933 0.30468739\n",
      " 0.29395016 0.31025626 0.31241952 0.31643624 0.30938695 0.3050566\n",
      " 0.29830705 0.29568627 0.29094813 0.28330057 0.28289826 0.28371175\n",
      " 0.29757439 0.29696381 0.30227821 0.31844325 0.31983116 0.31776983\n",
      " 0.30691108 0.29370571 0.28411001 0.29728966 0.30259983 0.30655314\n",
      " 0.31180607 0.30570753 0.32698079 0.05348873 0.05348873 0.05348873\n",
      " 0.05348873 0.05348873 0.05348873 0.05348873 0.05348873 0.05348873\n",
      " 0.05348873 0.05348873 0.05348873 0.05348873 0.05348873 0.05348873\n",
      " 0.05348873 0.05348873 0.05348873 0.05348873 0.05348873 0.05348873\n",
      " 0.05348873 0.05348873 0.05348873 0.05348873]\n",
      "24 day output [0.05348873]\n",
      "25 day input [0.53217833 0.52418042 0.50277198 0.44694198 0.4577146  0.42675169\n",
      " 0.42840474 0.43189718 0.44403812 0.46190235 0.44050121 0.44885483\n",
      " 0.42354516 0.4471999  0.43067497 0.43411006 0.44733922 0.42916389\n",
      " 0.43742455 0.43604117 0.43166155 0.4221696  0.42494939 0.43431381\n",
      " 0.4681538  0.469132   0.4395539  0.4494726  0.43814878 0.44005597\n",
      " 0.44115034 0.46287519 0.45968187 0.44571629 0.44419738 0.42893973\n",
      " 0.41821102 0.39449545 0.33105368 0.32688985 0.33232172 0.29980605\n",
      " 0.30113909 0.27956516 0.30235278 0.30303933 0.30468739 0.29395016\n",
      " 0.31025626 0.31241952 0.31643624 0.30938695 0.3050566  0.29830705\n",
      " 0.29568627 0.29094813 0.28330057 0.28289826 0.28371175 0.29757439\n",
      " 0.29696381 0.30227821 0.31844325 0.31983116 0.31776983 0.30691108\n",
      " 0.29370571 0.28411001 0.29728966 0.30259983 0.30655314 0.31180607\n",
      " 0.30570753 0.32698079 0.05348873 0.05348873 0.05348873 0.05348873\n",
      " 0.05348873 0.05348873 0.05348873 0.05348873 0.05348873 0.05348873\n",
      " 0.05348873 0.05348873 0.05348873 0.05348873 0.05348873 0.05348873\n",
      " 0.05348873 0.05348873 0.05348873 0.05348873 0.05348873 0.05348873\n",
      " 0.05348873 0.05348873 0.05348873 0.05348873]\n",
      "25 day output [0.05348873]\n",
      "26 day input [0.52418042 0.50277198 0.44694198 0.4577146  0.42675169 0.42840474\n",
      " 0.43189718 0.44403812 0.46190235 0.44050121 0.44885483 0.42354516\n",
      " 0.4471999  0.43067497 0.43411006 0.44733922 0.42916389 0.43742455\n",
      " 0.43604117 0.43166155 0.4221696  0.42494939 0.43431381 0.4681538\n",
      " 0.469132   0.4395539  0.4494726  0.43814878 0.44005597 0.44115034\n",
      " 0.46287519 0.45968187 0.44571629 0.44419738 0.42893973 0.41821102\n",
      " 0.39449545 0.33105368 0.32688985 0.33232172 0.29980605 0.30113909\n",
      " 0.27956516 0.30235278 0.30303933 0.30468739 0.29395016 0.31025626\n",
      " 0.31241952 0.31643624 0.30938695 0.3050566  0.29830705 0.29568627\n",
      " 0.29094813 0.28330057 0.28289826 0.28371175 0.29757439 0.29696381\n",
      " 0.30227821 0.31844325 0.31983116 0.31776983 0.30691108 0.29370571\n",
      " 0.28411001 0.29728966 0.30259983 0.30655314 0.31180607 0.30570753\n",
      " 0.32698079 0.05348873 0.05348873 0.05348873 0.05348873 0.05348873\n",
      " 0.05348873 0.05348873 0.05348873 0.05348873 0.05348873 0.05348873\n",
      " 0.05348873 0.05348873 0.05348873 0.05348873 0.05348873 0.05348873\n",
      " 0.05348873 0.05348873 0.05348873 0.05348873 0.05348873 0.05348873\n",
      " 0.05348873 0.05348873 0.05348873 0.05348873]\n",
      "26 day output [0.05348873]\n",
      "27 day input [0.50277198 0.44694198 0.4577146  0.42675169 0.42840474 0.43189718\n",
      " 0.44403812 0.46190235 0.44050121 0.44885483 0.42354516 0.4471999\n",
      " 0.43067497 0.43411006 0.44733922 0.42916389 0.43742455 0.43604117\n",
      " 0.43166155 0.4221696  0.42494939 0.43431381 0.4681538  0.469132\n",
      " 0.4395539  0.4494726  0.43814878 0.44005597 0.44115034 0.46287519\n",
      " 0.45968187 0.44571629 0.44419738 0.42893973 0.41821102 0.39449545\n",
      " 0.33105368 0.32688985 0.33232172 0.29980605 0.30113909 0.27956516\n",
      " 0.30235278 0.30303933 0.30468739 0.29395016 0.31025626 0.31241952\n",
      " 0.31643624 0.30938695 0.3050566  0.29830705 0.29568627 0.29094813\n",
      " 0.28330057 0.28289826 0.28371175 0.29757439 0.29696381 0.30227821\n",
      " 0.31844325 0.31983116 0.31776983 0.30691108 0.29370571 0.28411001\n",
      " 0.29728966 0.30259983 0.30655314 0.31180607 0.30570753 0.32698079\n",
      " 0.05348873 0.05348873 0.05348873 0.05348873 0.05348873 0.05348873\n",
      " 0.05348873 0.05348873 0.05348873 0.05348873 0.05348873 0.05348873\n",
      " 0.05348873 0.05348873 0.05348873 0.05348873 0.05348873 0.05348873\n",
      " 0.05348873 0.05348873 0.05348873 0.05348873 0.05348873 0.05348873\n",
      " 0.05348873 0.05348873 0.05348873 0.05348873]\n",
      "27 day output [0.05348873]\n",
      "28 day input [0.44694198 0.4577146  0.42675169 0.42840474 0.43189718 0.44403812\n",
      " 0.46190235 0.44050121 0.44885483 0.42354516 0.4471999  0.43067497\n",
      " 0.43411006 0.44733922 0.42916389 0.43742455 0.43604117 0.43166155\n",
      " 0.4221696  0.42494939 0.43431381 0.4681538  0.469132   0.4395539\n",
      " 0.4494726  0.43814878 0.44005597 0.44115034 0.46287519 0.45968187\n",
      " 0.44571629 0.44419738 0.42893973 0.41821102 0.39449545 0.33105368\n",
      " 0.32688985 0.33232172 0.29980605 0.30113909 0.27956516 0.30235278\n",
      " 0.30303933 0.30468739 0.29395016 0.31025626 0.31241952 0.31643624\n",
      " 0.30938695 0.3050566  0.29830705 0.29568627 0.29094813 0.28330057\n",
      " 0.28289826 0.28371175 0.29757439 0.29696381 0.30227821 0.31844325\n",
      " 0.31983116 0.31776983 0.30691108 0.29370571 0.28411001 0.29728966\n",
      " 0.30259983 0.30655314 0.31180607 0.30570753 0.32698079 0.05348873\n",
      " 0.05348873 0.05348873 0.05348873 0.05348873 0.05348873 0.05348873\n",
      " 0.05348873 0.05348873 0.05348873 0.05348873 0.05348873 0.05348873\n",
      " 0.05348873 0.05348873 0.05348873 0.05348873 0.05348873 0.05348873\n",
      " 0.05348873 0.05348873 0.05348873 0.05348873 0.05348873 0.05348873\n",
      " 0.05348873 0.05348873 0.05348873 0.05348873]\n",
      "28 day output [0.05348873]\n",
      "29 day input [0.4577146  0.42675169 0.42840474 0.43189718 0.44403812 0.46190235\n",
      " 0.44050121 0.44885483 0.42354516 0.4471999  0.43067497 0.43411006\n",
      " 0.44733922 0.42916389 0.43742455 0.43604117 0.43166155 0.4221696\n",
      " 0.42494939 0.43431381 0.4681538  0.469132   0.4395539  0.4494726\n",
      " 0.43814878 0.44005597 0.44115034 0.46287519 0.45968187 0.44571629\n",
      " 0.44419738 0.42893973 0.41821102 0.39449545 0.33105368 0.32688985\n",
      " 0.33232172 0.29980605 0.30113909 0.27956516 0.30235278 0.30303933\n",
      " 0.30468739 0.29395016 0.31025626 0.31241952 0.31643624 0.30938695\n",
      " 0.3050566  0.29830705 0.29568627 0.29094813 0.28330057 0.28289826\n",
      " 0.28371175 0.29757439 0.29696381 0.30227821 0.31844325 0.31983116\n",
      " 0.31776983 0.30691108 0.29370571 0.28411001 0.29728966 0.30259983\n",
      " 0.30655314 0.31180607 0.30570753 0.32698079 0.05348873 0.05348873\n",
      " 0.05348873 0.05348873 0.05348873 0.05348873 0.05348873 0.05348873\n",
      " 0.05348873 0.05348873 0.05348873 0.05348873 0.05348873 0.05348873\n",
      " 0.05348873 0.05348873 0.05348873 0.05348873 0.05348873 0.05348873\n",
      " 0.05348873 0.05348873 0.05348873 0.05348873 0.05348873 0.05348873\n",
      " 0.05348873 0.05348873 0.05348873 0.05348873]\n",
      "29 day output [0.05348873]\n"
     ]
    }
   ],
   "source": [
    "# prediction for future\n",
    "lst_output=[]\n",
    "n_steps=100\n",
    "i=0\n",
    "while(i<30):\n",
    "    \n",
    "    if(len(temp_input)>100):\n",
    "        #print(temp_input)\n",
    "        x_input=np.array(temp_input[1:])\n",
    "        print(\"{} day input {}\".format(i,x_input))\n",
    "        x_input=x_input.reshape(1,-1)\n",
    "        x_input = x_input.reshape((1, n_steps))\n",
    "        #print(x_input)\n",
    "        yhat = model.predict(x_input)\n",
    "        print(\"{} day output {}\".format(i,yhat))\n",
    "        temp_input.append(yhat[0].tolist())\n",
    "        temp_input=temp_input[1:]\n",
    "        #print(temp_input)\n",
    "        lst_output.append(yhat.tolist())\n",
    "        i=i+1\n",
    "    else:\n",
    "        x_input = x_input.reshape((1, n_steps))\n",
    "        yhat = model.predict(x_input)\n",
    "        print(yhat[0])\n",
    "        temp_input.append(yhat[0].tolist())\n",
    "        print(len(temp_input))\n",
    "        lst_output.appendp(yhat.tolist())\n",
    "        i=i+1"
   ]
  },
  {
   "cell_type": "code",
   "execution_count": 23,
   "id": "e429bb4c",
   "metadata": {},
   "outputs": [
    {
     "data": {
      "text/plain": [
       "[<matplotlib.lines.Line2D at 0x137187a9f70>]"
      ]
     },
     "execution_count": 23,
     "metadata": {},
     "output_type": "execute_result"
    },
    {
     "data": {
      "image/png": "[encoded data removed]",
      "text/plain": [
       "<Figure size 432x288 with 1 Axes>"
      ]
     },
     "metadata": {
      "needs_background": "light"
     },
     "output_type": "display_data"
    }
   ],
   "source": [
    "day_new = np.arange(1,101)\n",
    "day_pred = np.arange(101,131)\n",
    "plt.plot(day_new,scaler.inverse_transform(df1[len(df1)-100:]))\n",
    "plt.plot(day_pred,scaler.inverse_transform(lst_output))"
   ]
  },
  {
   "cell_type": "code",
   "execution_count": 24,
   "id": "cf61dda1",
   "metadata": {},
   "outputs": [
    {
     "data": {
      "text/plain": [
       "[<matplotlib.lines.Line2D at 0x1371a897ca0>]"
      ]
     },
     "execution_count": 24,
     "metadata": {},
     "output_type": "execute_result"
    },
    {
     "data": {
      "image/png": "[encoded data removed]",
      "text/plain": [
       "<Figure size 432x288 with 1 Axes>"
      ]
     },
     "metadata": {
      "needs_background": "light"
     },
     "output_type": "display_data"
    }
   ],
   "source": [
    "df3=df1.tolist()\n",
    "df3.extend(lst_output)\n",
    "plt.plot(df3[1200:])"
   ]
  },
  {
   "cell_type": "code",
   "execution_count": 25,
   "id": "bf00f0a6",
   "metadata": {},
   "outputs": [
    {
     "data": {
      "text/plain": [
       "[<matplotlib.lines.Line2D at 0x1371a84cb80>]"
      ]
     },
     "execution_count": 25,
     "metadata": {},
     "output_type": "execute_result"
    },
    {
     "data": {
      "image/png": "[encoded data removed]",
      "text/plain": [
       "<Figure size 432x288 with 1 Axes>"
      ]
     },
     "metadata": {
      "needs_background": "light"
     },
     "output_type": "display_data"
    }
   ],
   "source": [
    "df3=scaler.inverse_transform(df3).tolist()\n",
    "plt.plot(df3)"
   ]
  }
 ],
 "metadata": {
  "kernelspec": {
   "display_name": "Python 3 (ipykernel)",
   "language": "python",
   "name": "python3"
  },
  "language_info": {
   "codemirror_mode": {
    "name": "ipython",
    "version": 3
   },
   "file_extension": ".py",
   "mimetype": "text/x-python",
   "name": "python",
   "nbconvert_exporter": "python",
   "pygments_lexer": "ipython3",
   "version": "3.9.5"
  }
 },
 "nbformat": 4,
 "nbformat_minor": 5
}
